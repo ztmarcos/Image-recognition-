{
 "cells": [
  {
   "cell_type": "code",
   "execution_count": 137,
   "metadata": {},
   "outputs": [],
   "source": [
    "install = \"pip3 install --upgrade google-cloud-vision\"\n",
    "\n"
   ]
  },
  {
   "cell_type": "code",
   "execution_count": 138,
   "metadata": {},
   "outputs": [],
   "source": [
    "from google.cloud import vision_v1"
   ]
  },
  {
   "cell_type": "code",
   "execution_count": 139,
   "metadata": {},
   "outputs": [],
   "source": [
    "import os\n",
    "os.environ[\"GOOGLE_APPLICATION_CREDENTIALS\"] = \"/Users/marcoszavalatorres/Documents/DS/plexiform-plane-410622-eddbbc163a6b.json\""
   ]
  },
  {
   "cell_type": "code",
   "execution_count": 140,
   "metadata": {},
   "outputs": [],
   "source": [
    "import pandas as pd\n"
   ]
  },
  {
   "cell_type": "code",
   "execution_count": 153,
   "metadata": {},
   "outputs": [
    {
     "name": "stdout",
     "output_type": "stream",
     "text": [
      "blob1.png\n",
      "Labels for blob blob1.png:\n",
      "Water 0.9788500070571899\n",
      "Sky 0.9357091784477234\n",
      "Cloud 0.9309308528900146\n",
      "Nature 0.8997327089309692\n",
      "Beach 0.881846010684967\n",
      "People in nature 0.8650668859481812\n",
      "Sunlight 0.8483020663261414\n",
      "Travel 0.83608078956604\n",
      "Horizon 0.8298113942146301\n",
      "Headgear 0.8111134767532349\n",
      "city.jpeg\n",
      "Labels for blob city.jpeg:\n",
      "Building 0.946435272693634\n",
      "Daytime 0.9461089372634888\n",
      "Sky 0.93015056848526\n",
      "Plant 0.9110339879989624\n",
      "Light 0.9104734659194946\n",
      "Infrastructure 0.8990001678466797\n",
      "Road surface 0.8867555260658264\n",
      "Window 0.8644481301307678\n",
      "Tree 0.8546936511993408\n",
      "Sunlight 0.8506043553352356\n",
      "house.jpeg\n",
      "Labels for blob house.jpeg:\n",
      "Jeans 0.971866250038147\n",
      "Sky 0.9573702216148376\n",
      "Property 0.9418625831604004\n",
      "Window 0.9381341934204102\n",
      "Plant 0.9341860413551331\n",
      "Building 0.9144783020019531\n",
      "House 0.8792538046836853\n",
      "Cloud 0.8631643056869507\n",
      "Land lot 0.8457996249198914\n",
      "Grass 0.7947593331336975\n",
      "landscape.jpeg\n",
      "Labels for blob landscape.jpeg:\n",
      "Cloud 0.9789036512374878\n",
      "Sky 0.9713621735572815\n",
      "Mountain 0.9559088945388794\n",
      "Slope 0.8732845783233643\n",
      "People in nature 0.8452813029289246\n",
      "Outdoor recreation 0.8394813537597656\n",
      "Terrain 0.823169469833374\n",
      "Glacial landform 0.8088688850402832\n",
      "Landscape 0.8075233697891235\n",
      "Plant 0.7868530750274658\n"
     ]
    }
   ],
   "source": [
    "from google.cloud import storage\n",
    "from google.cloud import vision_v1\n",
    "\n",
    "# Create a storage client\n",
    "storage_client = storage.Client()\n",
    "\n",
    "# Get the bucket that the file will be uploaded to.\n",
    "bucket = storage_client.get_bucket('image_recognit')\n",
    "\n",
    "blobs = list(bucket.list_blobs())\n",
    "\n",
    "# Create a vision client\n",
    "vision_client = vision_v1.ImageAnnotatorClient()\n",
    "\n",
    "# Iterate over the blobs\n",
    "for blob in blobs:\n",
    "    print(blob.name)\n",
    "\n",
    "    # Get the blob's name\n",
    "    blob_name = blob.name\n",
    "    \n",
    "    # Read the blob's content as bytes\n",
    "    blob_content = blob.download_as_bytes()\n",
    "    \n",
    "    # Create an image object\n",
    "    image = vision_v1.Image(content=blob_content)\n",
    "    \n",
    "    # Perform label detection on the image\n",
    "    response = vision_client.label_detection(image=image)\n",
    "    labels = response.label_annotations\n",
    "    \n",
    "    # Print the labels with scores\n",
    "    print(f\"Labels for blob {blob_name}:\")\n",
    "    for label in labels:\n",
    "        print(label.description, label.score)\n",
    "\n",
    "\n",
    "        \n"
   ]
  },
  {
   "cell_type": "code",
   "execution_count": 154,
   "metadata": {},
   "outputs": [],
   "source": [
    "import pandas as pd "
   ]
  },
  {
   "cell_type": "code",
   "execution_count": 162,
   "metadata": {},
   "outputs": [
    {
     "name": "stdout",
     "output_type": "stream",
     "text": [
      "Repeated Labels:\n",
      "Building (Repeated 2 times)\n",
      "People in nature (Repeated 2 times)\n",
      "Plant (Repeated 3 times)\n",
      "Sky (Repeated 4 times)\n",
      "Cloud (Repeated 3 times)\n",
      "Sunlight (Repeated 2 times)\n",
      "Window (Repeated 2 times)\n"
     ]
    }
   ],
   "source": [
    "import pandas as pd\n",
    "\n",
    "# Create an empty list to store the labels\n",
    "label_list = []\n",
    "\n",
    "# Create a dictionary to store the count of each label\n",
    "label_count = {}\n",
    "\n",
    "# Iterate over the blobs\n",
    "for blob in blobs:\n",
    "    # Get the blob's name\n",
    "    blob_name = blob.name\n",
    "    \n",
    "    # Read the blob's content as bytes\n",
    "    blob_content = blob.download_as_bytes()\n",
    "    \n",
    "    # Create an image object\n",
    "    image = vision_v1.Image(content=blob_content)\n",
    "    \n",
    "    # Perform label detection on the image\n",
    "    response = vision_client.label_detection(image=image)\n",
    "    labels = response.label_annotations\n",
    "    \n",
    "    # Add labels to the label_list and update the label_count\n",
    "    for label in labels:\n",
    "        label_description = label.description\n",
    "        label_list.append(label_description)\n",
    "        if label_description in label_count:\n",
    "            label_count[label_description] += 1\n",
    "        else:\n",
    "            label_count[label_description] = 1\n",
    "\n",
    "# Remove duplicate labels from the label_list\n",
    "label_list = list(set(label_list))\n",
    "\n",
    "# Find repeated labels\n",
    "repeated_labels = [label for label in label_list if label_count[label] > 1]\n",
    "\n",
    "# Print the repeated labels with the count\n",
    "print(\"Repeated Labels:\")\n",
    "for label in repeated_labels:\n",
    "    print(f\"{label} (Repeated {label_count[label]} times)\")\n"
   ]
  },
  {
   "cell_type": "markdown",
   "metadata": {},
   "source": []
  },
  {
   "cell_type": "code",
   "execution_count": null,
   "metadata": {},
   "outputs": [],
   "source": []
  },
  {
   "cell_type": "code",
   "execution_count": null,
   "metadata": {},
   "outputs": [],
   "source": []
  }
 ],
 "metadata": {
  "kernelspec": {
   "display_name": "Python 3",
   "language": "python",
   "name": "python3"
  },
  "language_info": {
   "codemirror_mode": {
    "name": "ipython",
    "version": 3
   },
   "file_extension": ".py",
   "mimetype": "text/x-python",
   "name": "python",
   "nbconvert_exporter": "python",
   "pygments_lexer": "ipython3",
   "version": "3.8.0"
  }
 },
 "nbformat": 4,
 "nbformat_minor": 2
}
